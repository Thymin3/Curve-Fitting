{
 "cells": [
  {
   "cell_type": "markdown",
   "id": "22cf8720-8caf-42e8-b83d-f99642e8ce0a",
   "metadata": {},
   "source": [
    "## Four Parameter logistic curve fitting "
   ]
  },
  {
   "cell_type": "markdown",
   "id": "2d7d7e27-30cf-40fd-9d7b-1647e7066991",
   "metadata": {},
   "source": [
    "Standard curve:"
   ]
  },
  {
   "cell_type": "code",
   "execution_count": 74,
   "id": "d95b94bb-3e6c-42b7-ad48-39b5ba62f1ca",
   "metadata": {},
   "outputs": [
    {
     "name": "stdout",
     "output_type": "stream",
     "text": [
      "[ 0.34295116  1.21309224 63.36213513  2.98986419]\n",
      "R^2: 1.00\n"
     ]
    },
    {
     "data": {
      "image/png": "[encoded data removed]",
      "text/plain": [
       "<Figure size 432x288 with 1 Axes>"
      ]
     },
     "metadata": {
      "needs_background": "light"
     },
     "output_type": "display_data"
    }
   ],
   "source": [
    "import numpy as np\n",
    "from scipy.optimize import curve_fit\n",
    "from sklearn.metrics import r2_score\n",
    "\n",
    "def four_parameter_logistic(x, a, b, c, d):\n",
    "      #return d / (1 + (x/c)**b)**(1/a)\n",
    "      return d + (a-d)/(1+(x/c)**b)  \n",
    "\n",
    "def fit_four_parameter_logistic(x_data, y_data):\n",
    "  global a, b, c, d\n",
    "  params, params_covariance = curve_fit(four_parameter_logistic, x_data, y_data, p0=[1, 1, 1, 1], maxfev=10000)\n",
    "  a, b, c, d = params\n",
    "  return params\n",
    "\n",
    "x_data = np.array([0.625, 1.25, 2.5, 5, 10, 20, 40, 80, 160, 320])\n",
    "y_data = np.array([0.4, 0.4, 0.4, 0.4, 0.5, 0.9, 1.4, 1.8, 2.3, 2.7])\n",
    "\n",
    "params = fit_four_parameter_logistic(x_data, y_data)\n",
    "print(params)\n",
    "\n",
    "import matplotlib.pyplot as plt\n",
    "\n",
    "# Generate synthetic x data in the range [0, 350]\n",
    "x_data_fit = np.linspace(0, 350, 50)\n",
    "\n",
    "# Use the optimized parameters to generate synthetic y data\n",
    "y_data_fit = four_parameter_logistic(x_data_fit, *params)\n",
    "\n",
    "# Calculate R^2\n",
    "r2 = r2_score(y_data, four_parameter_logistic(x_data, *params))\n",
    "print(f\"R^2: {r2:.2f}\")\n",
    "\n",
    "# Plot the standard curve\n",
    "plt.plot(x_data, y_data, 'bo', label='Standard curve values')\n",
    "plt.plot(x_data_fit, y_data_fit, 'r', label='Standard curve')\n",
    "plt.legend()\n",
    "# Label the axes\n",
    "plt.xlabel(\"concentration\")\n",
    "plt.ylabel(\"OD\")\n",
    "plt.show()\n",
    "\n"
   ]
  },
  {
   "cell_type": "code",
   "execution_count": 73,
   "id": "260fc4f5-c7b9-4b5b-9453-630a24c71236",
   "metadata": {},
   "outputs": [
    {
     "name": "stdout",
     "output_type": "stream",
     "text": [
      "For y = 1.5, x = 48.72\n"
     ]
    }
   ],
   "source": [
    "def get_x_from_y(y):\n",
    "    return c * (((a - d)/(y-d))-1)**(1/b)\n",
    "\n",
    "y_value = 1.5\n",
    "x_value = get_x_from_y(y_value)\n",
    "print(f\"For y = {y_value}, x = {x_value:.2f}\")"
   ]
  },
  {
   "cell_type": "code",
   "execution_count": null,
   "id": "17ab3f29-b7d9-47f2-a81d-166fe4306fd4",
   "metadata": {},
   "outputs": [],
   "source": []
  }
 ],
 "metadata": {
  "kernelspec": {
   "display_name": "Python 3 (ipykernel)",
   "language": "python",
   "name": "python3"
  },
  "language_info": {
   "codemirror_mode": {
    "name": "ipython",
    "version": 3
   },
   "file_extension": ".py",
   "mimetype": "text/x-python",
   "name": "python",
   "nbconvert_exporter": "python",
   "pygments_lexer": "ipython3",
   "version": "3.9.12"
  }
 },
 "nbformat": 4,
 "nbformat_minor": 5
}
